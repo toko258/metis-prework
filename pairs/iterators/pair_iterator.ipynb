{
 "cells": [
  {
   "cell_type": "markdown",
   "metadata": {},
   "source": [
    "## How do iterators work? (Hint: not magic)\n",
    "\n",
    "We already know that lists and other containers in Python are iterable. For example, in a for loop we could write:\n",
    "\n",
    "```python\n",
    "word = \"amazing\"\n",
    "\n",
    "for character in word:\n",
    "    print (character)\n",
    "```\n",
    "\n",
    "We also know that (some) objects being iterable is what makes things like list comprehensions work. "
   ]
  },
  {
   "cell_type": "code",
   "execution_count": null,
   "metadata": {},
   "outputs": [],
   "source": [
    "# What magic! What's really going on under the hood? Let's see (do NOT ever actually do this, for demo only): \n",
    "\n",
    "word = \"pearl\"\n",
    "iterator = word.__iter__()\n",
    "\n",
    "while iterator:\n",
    "    try: \n",
    "        print (\"Next letter: \", next(iterator))\n",
    "    except StopIteration: \n",
    "        break"
   ]
  },
  {
   "cell_type": "markdown",
   "metadata": {},
   "source": [
    "### We can write our own iterable class (of course)! \n",
    "\n",
    "All we need for an iterator is an \\__iter\\__ method that gives us each word. Note that ``__iter__`` itself will depend on an iterator; ``Sentence`` should be an iterable, but not an iterator! What's the difference? Hint: an interable has an ``__iter__`` method; an iterator has a ``__next__`` method. \n",
    "\n",
    "You could 1) write your own iterator class in addition to your iterable class, or 2) use a generator function in your ``iter`` method; a generator function will use ``yield``. \n",
    "\n",
    "Go ahead and write your own ```Sentence``` class that takes in a sentence and iterates over the words (ignore punctuation/etc; hint: use a regular expression to find the words)."
   ]
  },
  {
   "cell_type": "markdown",
   "metadata": {},
   "source": [
    "Bonus questions: \n",
    "\n",
    "* What's the difference between an interable and an interator? \n",
    "* What's the difference between an iterator and a generator? \n",
    "* How can I restart my iterations over? \n"
   ]
  }
 ],
 "metadata": {
  "kernelspec": {
   "display_name": "metis",
   "language": "python",
   "name": "metis"
  },
  "language_info": {
   "codemirror_mode": {
    "name": "ipython",
    "version": 3
   },
   "file_extension": ".py",
   "mimetype": "text/x-python",
   "name": "python",
   "nbconvert_exporter": "python",
   "pygments_lexer": "ipython3",
   "version": "3.6.5"
  },
  "toc": {
   "base_numbering": 1,
   "nav_menu": {},
   "number_sections": true,
   "sideBar": true,
   "skip_h1_title": false,
   "title_cell": "Table of Contents",
   "title_sidebar": "Contents",
   "toc_cell": false,
   "toc_position": {
    "height": "calc(100% - 180px)",
    "left": "10px",
    "top": "150px",
    "width": "165px"
   },
   "toc_section_display": true,
   "toc_window_display": true
  }
 },
 "nbformat": 4,
 "nbformat_minor": 2
}
