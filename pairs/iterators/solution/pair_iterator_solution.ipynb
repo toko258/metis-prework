{
 "cells": [
  {
   "cell_type": "markdown",
   "metadata": {},
   "source": [
    "### Solution with only an interable and a generator function (uses yield)"
   ]
  },
  {
   "cell_type": "code",
   "execution_count": null,
   "metadata": {},
   "outputs": [],
   "source": [
    "import re\n",
    "\n",
    "def find_words(text):\n",
    "    '''return list of words from a sentence, ignoring punctuation'''\n",
    "    return re.compile('\\w+').findall(text)\n",
    "\n",
    "class Sentence:\n",
    "        \n",
    "    def __init__(self, text):\n",
    "            self.text = text\n",
    "            self.words = find_words(text)\n",
    "            \n",
    "    def __iter__(self):\n",
    "        for word in self.words:\n",
    "            yield word\n",
    "        \n",
    "    "
   ]
  },
  {
   "cell_type": "code",
   "execution_count": null,
   "metadata": {},
   "outputs": [],
   "source": [
    "my_sentence = Sentence(\"Hello! Who thinks this will work?\")\n",
    "\n",
    "for word in my_sentence:\n",
    "    print (\"Next word: \" , word)"
   ]
  },
  {
   "cell_type": "code",
   "execution_count": null,
   "metadata": {},
   "outputs": [],
   "source": []
  },
  {
   "cell_type": "markdown",
   "metadata": {},
   "source": [
    "### Solution with an interator function, too"
   ]
  },
  {
   "cell_type": "code",
   "execution_count": null,
   "metadata": {},
   "outputs": [],
   "source": [
    "# Or, you can make an iterator class, too:\n",
    "\n",
    "class Sentence2: \n",
    "    \n",
    "    def __init__(self, text):\n",
    "            self.text = text\n",
    "            self.words = find_words(text)\n",
    "            \n",
    "    def __iter__(self):\n",
    "        return SentenceIterator(self.words)\n",
    "    \n",
    "class SentenceIterator:\n",
    "    \n",
    "    def __init__(self,words):\n",
    "        self.words = words\n",
    "        self.curr_index = 0\n",
    "        \n",
    "    def __next__(self):\n",
    "        try:\n",
    "            next_word = self.words[self.curr_index]\n",
    "        except IndexError: \n",
    "            raise StopIteration\n",
    "        self.curr_index += 1\n",
    "        return next_word\n",
    "    \n",
    "    def __iter__(self):\n",
    "        return self"
   ]
  },
  {
   "cell_type": "code",
   "execution_count": null,
   "metadata": {},
   "outputs": [],
   "source": [
    "another_sentence = Sentence2(\"Trying this a different way\")\n",
    "\n",
    "for word in another_sentence:\n",
    "    print(\"Next word: \", word)"
   ]
  },
  {
   "cell_type": "code",
   "execution_count": null,
   "metadata": {},
   "outputs": [],
   "source": []
  }
 ],
 "metadata": {
  "kernelspec": {
   "display_name": "metis",
   "language": "python",
   "name": "metis"
  },
  "language_info": {
   "codemirror_mode": {
    "name": "ipython",
    "version": 3
   },
   "file_extension": ".py",
   "mimetype": "text/x-python",
   "name": "python",
   "nbconvert_exporter": "python",
   "pygments_lexer": "ipython3",
   "version": "3.6.5"
  },
  "toc": {
   "base_numbering": 1,
   "nav_menu": {},
   "number_sections": true,
   "sideBar": true,
   "skip_h1_title": false,
   "title_cell": "Table of Contents",
   "title_sidebar": "Contents",
   "toc_cell": false,
   "toc_position": {
    "height": "calc(100% - 180px)",
    "left": "10px",
    "top": "150px",
    "width": "165px"
   },
   "toc_section_display": true,
   "toc_window_display": true
  }
 },
 "nbformat": 4,
 "nbformat_minor": 2
}
