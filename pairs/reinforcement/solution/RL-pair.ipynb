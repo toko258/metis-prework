{
 "cells": [
  {
   "cell_type": "markdown",
   "metadata": {},
   "source": [
    "# Prep!\n",
    "\n",
    "\n",
    "## What are we doing?\n",
    "\n",
    "It seems like data science is all about predicting things. Predict a number, or a category, or reduce some dimensions. Fine, but what about actually *doing* things?\n",
    "\n",
    "Today's pair problem is all about that.\n",
    "\n",
    "In plain terms, the task is to use existing data science tools to predict how an agent should act. Then use those predictions to drive the behavior of the agent. Ideally, our intelligent agent should get a much better score than a random agent.\n",
    "\n",
    "## Getting ready\n",
    "\n",
    "We're going to the gym for today's pair problem. Specifically, the [OpenAI Gym](https://gym.openai.com/docs/).\n",
    "\n",
    "Install this with\n",
    "\n",
    "```\n",
    "pip install gym -U\n",
    "```\n",
    "(you might have to use `pip3` or `sudo`)\n",
    "\n",
    "If you want to install everything (the gym can run atari games. but you don't need to worry abou that now.) follow [these instructions](https://github.com/openai/gym#installing-everything).\n",
    "\n",
    "Now you can build a toy world using the gym!\n",
    "\n",
    "First, some vocabulary:\n",
    "\n",
    "- **Observation**: These are the states of the game. It describes where the agent currently is.\n",
    "- **Action**: These are the moves that the agent makes.\n",
    "- **Episode**: One full game played from beginning (`env.reset()`) to end (when `done == True`).\n",
    "- **Step**: Part of a game that includes one action. The game transitions from one observation to the next."
   ]
  },
  {
   "cell_type": "code",
   "execution_count": null,
   "metadata": {},
   "outputs": [],
   "source": [
    "import gym\n",
    "import pandas\n",
    "%pylab inline"
   ]
  },
  {
   "cell_type": "markdown",
   "metadata": {},
   "source": [
    "# The first part of the game uses the environment FrozenLake-V0\n",
    "\n",
    "This is a small world with 16 tiles. \n",
    "\n",
    "    SFFF\n",
    "    FHFH\n",
    "    FFFH\n",
    "    HFFG\n",
    "\n",
    "The game starts at the S tile. The object of the game is to get to the goal (G) without landing in a hole (H)."
   ]
  },
  {
   "cell_type": "code",
   "execution_count": null,
   "metadata": {},
   "outputs": [],
   "source": [
    "# Build an environment with gym.make()\n",
    "env = gym.make('FrozenLake-v0') # build a fresh environment\n",
    "\n",
    "# Start a new game with env.reset()\n",
    "current_observation = env.reset() # this starts a new \"episode\" and returns the initial observation\n",
    "\n",
    "#the current observation is just the current location\n",
    "print(current_observation) # observations are just a number"
   ]
  },
  {
   "cell_type": "code",
   "execution_count": null,
   "metadata": {},
   "outputs": [],
   "source": [
    "# we can print the environment if we want to look at it\n",
    "env.render() "
   ]
  },
  {
   "cell_type": "code",
   "execution_count": null,
   "metadata": {},
   "outputs": [],
   "source": [
    "# the action space for this environment includes four discrete actions\n",
    "\n",
    "print(f\"our action space: {env.action_space}\")\n",
    "\n",
    "new_action = env.action_space.sample() # we can randomly sample actions\n",
    "\n",
    "print(f\"our new action: {new_action}\") # run this cell a few times to get an idea of the action space\n",
    "# what does it look like?"
   ]
  },
  {
   "cell_type": "code",
   "execution_count": null,
   "metadata": {},
   "outputs": [],
   "source": [
    "# now we act! do this with the step function\n",
    "\n",
    "new_action = env.action_space.sample()\n",
    "\n",
    "observation, reward, done, info = env.step(new_action)\n",
    "\n",
    "# here's a look at what we get back\n",
    "print(f\"observation: {observation}, reward: {reward}, done: {done}, info: {info}\")\n",
    "\n",
    "env.render() "
   ]
  },
  {
   "cell_type": "code",
   "execution_count": null,
   "metadata": {},
   "outputs": [],
   "source": [
    "# we can put this process into a for-loop and see how the game progresses\n",
    "\n",
    "current_observation = env.reset() # start a new game\n",
    "\n",
    "for i in range(5): # run 5 moves\n",
    "\n",
    "    new_action = env.action_space.sample() # same a new action\n",
    "\n",
    "    observation, reward, done, info = env.step(new_action) # step through the action and get the outputs\n",
    "\n",
    "    # here's a look at what we get back\n",
    "    print(f\"observation: {observation}, reward: {reward}, done: {done}, info: {info}\")\n",
    "\n",
    "    env.render() "
   ]
  },
  {
   "cell_type": "markdown",
   "metadata": {},
   "source": [
    "Now we can guess what each of the outputs mean. \n",
    "\n",
    "**Observation** refers to the number of the tile. The tiles appear to be numbered\n",
    "\n",
    "    0 1 2 3\n",
    "    4 5 ...\n",
    "    \n",
    "**Reward** refers to the outcome of the game. We get 1 if we win, zero otherwise.\n",
    "\n",
    "**Done** tells us if the game is still going. It goes to true when we win or fall into a hole.\n",
    "\n",
    "**info** gives extra info about the world. Here, it's probabilities. Can you guess what this means here? Perhaps the world is a bit noisey."
   ]
  },
  {
   "cell_type": "code",
   "execution_count": null,
   "metadata": {},
   "outputs": [],
   "source": [
    "# Here's how to simulate an entire episode\n",
    "# We're going to stop rendering it every time to save space\n",
    "# try running this a few. Does it ever win?\n",
    "\n",
    "current_observation = env.reset()\n",
    "done = False\n",
    "\n",
    "while not done:    \n",
    "    new_action = env.action_space.sample()\n",
    "    new_observation, reward, done, info = env.step(new_action)\n",
    "    print(f\"action:{new_action} observation: {new_observation}, reward: {reward}, done: {done}, info: {info}\")"
   ]
  },
  {
   "cell_type": "markdown",
   "metadata": {},
   "source": [
    "Things to think about:\n",
    "- What things do you notice about how the environment and actions work?\n",
    "- What do you think the actions mean?\n",
    "- When the agent performs the same action from the same place (same observation), does the same outcome happen every time?"
   ]
  },
  {
   "cell_type": "markdown",
   "metadata": {},
   "source": [
    "The environment has some squares that always end the game (`H` in the render), some that don't (`F`), and one that is presumably the reward, if you get to it.\n",
    "\n",
    "The actions seem like up, down, left right. But they also seem stochastic. There seems to be a 1/3 chance of going into 3 different squares with each action. "
   ]
  },
  {
   "cell_type": "markdown",
   "metadata": {},
   "source": [
    "# Part 1: Gather data!\n",
    "\n",
    "We want to build an intelligent actor but first we have to gather data on which actions are useful.\n",
    "\n",
    "Use the above code as reference. Run a *random* agent through 1,000 or more episodes and collect data on each step.\n",
    "\n",
    "I recommend you store this data in a pandas dataframe. Each row should be a step. Your features should include the following features or similar \n",
    "\n",
    "- `observation` the observation at the beginning of the step (before acting!)\n",
    "- `action` the action randomly sampled\n",
    "- `current_reward` the reward received after the action was performed\n",
    "\n",
    "After you generate this data, it is recommended that you compute a column (e.g. `total_reward` that is the total reward for the entire episode).\n",
    "\n",
    "At the end of the data gathering, you should be able to use pandas (or similar) to calculate the average total reward *per episode* of the random agent. The average score should be 1-2%, meaning that the agent very rarely wins.\n",
    "\n",
    "\n",
    "## Hints\n",
    "\n",
    "- `initial_observation = env.reset()` starts a new episode and returns the initial observation.\n",
    "- `new_observation, reward, done, info = env.step(new_action)` executes one action and returns the following observation. You may look at the documentation for the step method if you are curious about what it does. \n",
    "- `done != True` until the game is finished.\n",
    "- we are trying to maximize the reward *per episode*. Our first game gives 0 reward unless the agent travels to the goal.\n",
    "- `env.action_space.n` gives the number of possible actions in the environment. `env.action_space.sample()` allows the agent to randomly sample an action.\n",
    "- `env.observation_space.n` gives the number of possible states in the environment. "
   ]
  },
  {
   "cell_type": "code",
   "execution_count": null,
   "metadata": {},
   "outputs": [],
   "source": [
    "env = gym.make('FrozenLake-v0')\n",
    "\n",
    "num_episodes = 40000\n",
    "\n",
    "life_memory = []\n",
    "for i in range(num_episodes):\n",
    "    \n",
    "    # start a new episode and record all the memories\n",
    "    old_observation = env.reset()\n",
    "    done = False\n",
    "    tot_reward = 0\n",
    "    ep_memory = []\n",
    "    while not done:\n",
    "        new_action = env.action_space.sample()\n",
    "        observation, reward, done, info = env.step(new_action)\n",
    "        tot_reward += reward\n",
    "        \n",
    "        ep_memory.append({\n",
    "            \"observation\": old_observation,\n",
    "            \"action\": new_action,\n",
    "            \"reward\": reward,\n",
    "            \"episode\": i,\n",
    "        })\n",
    "        old_observation = observation\n",
    "        \n",
    "    # incorporate total reward\n",
    "    num_steps = len(ep_memory)\n",
    "    for i, ep_mem in enumerate(ep_memory):\n",
    "        ep_mem[\"tot_reward\"] = tot_reward\n",
    "        ep_mem[\"decay_reward\"] = i*tot_reward/num_steps\n",
    "        \n",
    "    life_memory.extend(ep_memory)\n",
    "    \n",
    "memory_df = pandas.DataFrame(life_memory)"
   ]
  },
  {
   "cell_type": "code",
   "execution_count": null,
   "metadata": {},
   "outputs": [],
   "source": [
    "memory_df.describe()"
   ]
  },
  {
   "cell_type": "code",
   "execution_count": null,
   "metadata": {},
   "outputs": [],
   "source": [
    "memory_df.shape"
   ]
  },
  {
   "cell_type": "code",
   "execution_count": null,
   "metadata": {},
   "outputs": [],
   "source": [
    "mean(memory_df.groupby(\"episode\").reward.sum())"
   ]
  },
  {
   "cell_type": "markdown",
   "metadata": {},
   "source": [
    "# Step 2: Predict!\n",
    "\n",
    "Now that you have a bunch of data, put it into a format that you can model. The goal here is to guide the behavior of our agent. Our agent will be given an observation and need to decide between the possible actions given that observation and the prediction of the model. \n",
    "\n",
    "Remember, you're a data scientist! Be creative. \n",
    "\n",
    "It might be helpful to work backwards. Ultimately, you will write something like:\n",
    "\n",
    "```\n",
    "def convert_to_row(obs, act):\n",
    "    # expertly written code\n",
    "    return row_of_obs_act\n",
    "    \n",
    "rows = [convert_to_row(current_obs, act) for act in possible_actions]\n",
    "\n",
    "pred_outcome = model.predict(rows)\n",
    "```\n",
    "\n",
    "So, you will need to design a quantity that you can ask your model to predict for every possible action-observation pair. Think a bit about what this quantity should be. Should the model try to predict the immediate reward for each action? If so, how would it know where to go at the beginning of each episode when all moves give zero reward but when some moves bring it closer to the goal than others. "
   ]
  },
  {
   "cell_type": "code",
   "execution_count": null,
   "metadata": {},
   "outputs": [],
   "source": [
    "from sklearn.ensemble import RandomForestRegressor, ExtraTreesRegressor\n",
    "from sklearn.svm import SVR\n",
    "\n",
    "model = ExtraTreesRegressor(n_estimators=50)\n",
    "# model = SVR()\n",
    "y = 0.5*memory_df.reward + 0.1*memory_df.decay_reward + memory_df.tot_reward\n",
    "x = memory_df[[\"observation\", \"action\"]]\n",
    "model.fit(x, y)"
   ]
  },
  {
   "cell_type": "markdown",
   "metadata": {},
   "source": [
    "# Step 3: Act!\n",
    "\n",
    "Now that you have a model that predicts the desired behavior, let's act on it! Modify the code you used to gather data so that you replace the random decision with an intelligent one.\n",
    "\n",
    "We started out winning ~1.5% of the games with the random agent. How well can you do? You should be able to get your model to do at least 10x better (so 15%). Can you get ~50%?\n",
    "\n",
    "If you're having trouble, tune your model. Try different representations of the observation and action spaces. Try different models. "
   ]
  },
  {
   "cell_type": "code",
   "execution_count": null,
   "metadata": {},
   "outputs": [],
   "source": [
    "model = RandomForestRegressor()\n",
    "y = 1*memory_df.reward + memory_df.tot_reward + .1*memory_df.decay_reward\n",
    "x = memory_df[[\"observation\", \"action\"]]\n",
    "model.fit(x, y)\n",
    "\n",
    "num_episodes = 500\n",
    "random_per = 0\n",
    "\n",
    "life_memory = []\n",
    "for i in range(num_episodes):\n",
    "    \n",
    "    # start a new episode and record all the memories\n",
    "    old_observation = env.reset()\n",
    "    done = False\n",
    "    tot_reward = 0\n",
    "    ep_memory = []\n",
    "    while not done:\n",
    "        \n",
    "        \n",
    "        if rand() < random_per:\n",
    "            new_action = env.action_space.sample()\n",
    "        else:\n",
    "            pred_in = [[old_observation,i] for i in range(4)]\n",
    "            new_action = np.argmax(model.predict(pred_in))\n",
    "        observation, reward, done, info = env.step(new_action)\n",
    "        tot_reward += reward\n",
    "        \n",
    "        ep_memory.append({\n",
    "            \"observation\": old_observation,\n",
    "            \"action\": new_action,\n",
    "            \"reward\": reward,\n",
    "            \"episode\": i,\n",
    "        })\n",
    "        old_observation = observation\n",
    "        \n",
    "    # incorporate total reward\n",
    "    for ep_mem in ep_memory:\n",
    "        ep_mem[\"tot_reward\"] = tot_reward\n",
    "        \n",
    "    life_memory.extend(ep_memory)\n",
    "    \n",
    "memory_df2 = pandas.DataFrame(life_memory)\n",
    "\n",
    "# rf.fit(memory_df[[\"observation\", \"action\"]], memory_df[\"comb_reward\"])\n",
    "\n",
    "# score\n",
    "# much better!\n",
    "mean(memory_df2.groupby(\"episode\").reward.sum())"
   ]
  },
  {
   "cell_type": "code",
   "execution_count": null,
   "metadata": {},
   "outputs": [],
   "source": []
  },
  {
   "cell_type": "code",
   "execution_count": null,
   "metadata": {},
   "outputs": [],
   "source": [
    "y = .1*memory_df.reward + 1*memory_df.decay_reward + 1*memory_df.tot_reward"
   ]
  },
  {
   "cell_type": "markdown",
   "metadata": {},
   "source": [
    "# Extension: Pole cart\n",
    "\n",
    "If time permits, try your hand at pole cart (`env = gym.make('CartPole-v0')`).\n",
    "\n",
    "Notice that the observation space is quite different. It's no longer discrete--instead we have 4 continuous values. You'll have to store these differently from how you did with Frozenlake.\n",
    "\n",
    "My random actor actually does surprisingly well (avg ~22). But my intelligent agent is able to score ~99. Can you beat me? "
   ]
  },
  {
   "cell_type": "markdown",
   "metadata": {},
   "source": [
    "# Pole cart!"
   ]
  },
  {
   "cell_type": "code",
   "execution_count": null,
   "metadata": {},
   "outputs": [],
   "source": [
    "env = gym.make('CartPole-v0')\n"
   ]
  },
  {
   "cell_type": "code",
   "execution_count": null,
   "metadata": {},
   "outputs": [],
   "source": [
    "# now we can build a toy world!\n",
    "\n",
    "\n",
    "\n",
    "num_episodes = 1000\n",
    "\n",
    "life_memory = []\n",
    "for i in range(num_episodes):\n",
    "    \n",
    "    # start a new episode and record all the memories\n",
    "    old_observation = env.reset()\n",
    "    done = False\n",
    "    tot_reward = 0\n",
    "    ep_memory = []\n",
    "    while not done:\n",
    "        new_action = env.action_space.sample()\n",
    "        observation, reward, done, info = env.step(new_action)\n",
    "        tot_reward += reward\n",
    "        \n",
    "        ep_memory.append({\n",
    "            \"obs0\": old_observation[0],\n",
    "            \"obs1\": old_observation[1],\n",
    "            \"obs2\": old_observation[2],\n",
    "            \"obs3\": old_observation[3],\n",
    "            \"action\": new_action,\n",
    "            \"reward\": reward,\n",
    "            \"episode\": i,\n",
    "        })\n",
    "        old_observation = observation\n",
    "        \n",
    "    # incorporate total reward\n",
    "    for ep_mem in ep_memory:\n",
    "        ep_mem[\"tot_reward\"] = tot_reward\n",
    "        \n",
    "    life_memory.extend(ep_memory)\n",
    "    \n",
    "memory_df = pandas.DataFrame(life_memory)\n",
    "\n",
    "mean(memory_df.groupby(\"episode\").reward.sum())"
   ]
  },
  {
   "cell_type": "code",
   "execution_count": null,
   "metadata": {},
   "outputs": [],
   "source": [
    "memory_df.describe()"
   ]
  },
  {
   "cell_type": "code",
   "execution_count": null,
   "metadata": {},
   "outputs": [],
   "source": [
    "from sklearn.ensemble import RandomForestRegressor, AdaBoostRegressor, ExtraTreesRegressor\n",
    "\n",
    "model = ExtraTreesRegressor(n_estimators=50)\n",
    "\n",
    "memory_df[\"comb_reward\"] = .5*memory_df.reward + memory_df.tot_reward\n",
    "model.fit(memory_df[[\"obs0\", \"obs1\", \"obs2\", \"obs3\", \"action\"]], memory_df.comb_reward)"
   ]
  },
  {
   "cell_type": "code",
   "execution_count": null,
   "metadata": {},
   "outputs": [],
   "source": [
    "num_episodes = 100\n",
    "random_per = 0\n",
    "\n",
    "life_memory = []\n",
    "for i in range(num_episodes):\n",
    "    \n",
    "    # start a new episode and record all the memories\n",
    "    old_observation = env.reset()\n",
    "    done = False\n",
    "    tot_reward = 0\n",
    "    ep_memory = []\n",
    "    while not done:\n",
    "        \n",
    "        \n",
    "        if rand() < random_per:\n",
    "            new_action = env.action_space.sample()\n",
    "        else:\n",
    "            pred_in = [list(old_observation)+[i] for i in range(2)]\n",
    "            new_action = np.argmax(model.predict(pred_in))\n",
    "        observation, reward, done, info = env.step(new_action)\n",
    "        tot_reward += reward\n",
    "        \n",
    "        ep_memory.append({\n",
    "            \"obs0\": old_observation[0],\n",
    "            \"obs1\": old_observation[1],\n",
    "            \"obs2\": old_observation[2],\n",
    "            \"obs3\": old_observation[3],\n",
    "            \"action\": new_action,\n",
    "            \"reward\": reward,\n",
    "            \"episode\": i,\n",
    "        })\n",
    "        old_observation = observation\n",
    "        \n",
    "    # incorporate total reward\n",
    "    for ep_mem in ep_memory:\n",
    "        ep_mem[\"tot_reward\"] = tot_reward\n",
    "        \n",
    "    life_memory.extend(ep_memory)\n",
    "    \n",
    "memory_df2 = pandas.DataFrame(life_memory)\n",
    "memory_df2[\"comb_reward\"] = memory_df2.reward + memory_df2.tot_reward\n",
    "\n",
    "# score\n",
    "# much better!\n",
    "mean(memory_df2.groupby(\"episode\").reward.sum())"
   ]
  },
  {
   "cell_type": "code",
   "execution_count": null,
   "metadata": {},
   "outputs": [],
   "source": []
  }
 ],
 "metadata": {
  "kernelspec": {
   "display_name": "metis",
   "language": "python",
   "name": "metis"
  },
  "language_info": {
   "codemirror_mode": {
    "name": "ipython",
    "version": 3
   },
   "file_extension": ".py",
   "mimetype": "text/x-python",
   "name": "python",
   "nbconvert_exporter": "python",
   "pygments_lexer": "ipython3",
   "version": "3.6.4"
  }
 },
 "nbformat": 4,
 "nbformat_minor": 2
}
