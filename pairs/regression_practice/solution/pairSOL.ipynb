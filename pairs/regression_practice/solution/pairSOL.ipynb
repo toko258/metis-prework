{
 "cells": [
  {
   "cell_type": "code",
   "execution_count": null,
   "metadata": {},
   "outputs": [],
   "source": [
    "# Python 2 & 3 Compatibility\n",
    "from __future__ import print_function, division\n",
    "\n",
    "import pandas as pd    #import pandas to read in out write out data\n",
    "import statsmodels.api as sm    #import statsmodels for the stats models\n",
    "import numpy as np\n",
    "import matplotlib.pyplot as plt\n",
    "import scipy.stats    #import for stats functions"
   ]
  },
  {
   "cell_type": "code",
   "execution_count": null,
   "metadata": {},
   "outputs": [],
   "source": [
    "Data = pd.read_csv('Practice_data.csv')    #read in data\n",
    "y = Data['Dep_Variable']    #extract dependent variable\n",
    "X = Data.drop('Dep_Variable',1)    #remove it from the data and keep everything else\n",
    "X['Ind_Variable_4**2'] = X['Ind_Variable_4']**2.0    #include a squared term on x_4\n",
    "X['Ind_Variable_4**3'] = X['Ind_Variable_4']**3.0    #include a cubed term on x_4\n",
    "X['Intercept'] = [1.0]*X.shape[0]    #include the intercept"
   ]
  },
  {
   "cell_type": "code",
   "execution_count": null,
   "metadata": {},
   "outputs": [],
   "source": [
    "#plot the relationships\n",
    "#The density of y\n",
    "ys = np.linspace(min(y),max(y),200)    #set the x range\n",
    "\n",
    "#compute the density for the first data\n",
    "density_y = scipy.stats.gaussian_kde(y)    #use the scipy density calculator\n",
    "density_y.covariance_factor = lambda : .25    #set the covariance factor so that plots analogous to R's are plotted\n",
    "density_y._compute_covariance()    #recompute using the new covariance factor"
   ]
  },
  {
   "cell_type": "code",
   "execution_count": null,
   "metadata": {},
   "outputs": [],
   "source": [
    "plt.figure(figsize = (20,8))    #initiate the plot\n",
    "plt.plot(ys,density_y(ys),'b--',lw=4)    #generate the plot\n",
    "plt.fill(ys,density_y(ys),'b',alpha=0.3)    #fill in the curves\n",
    "plt.xlabel('y',fontsize=30)    #add an x label\n",
    "plt.ylabel('density of y',fontsize=30)    #add a y label\n",
    "plt.text(np.mean(y),max(density_y(ys))/2.0,r'$\\widehat{y}$',fontsize=30) #LaTeX for mean\n",
    "#plt.title('A Simple Density',fontsize=40)    #add a title to the plot\n",
    "plt.grid(True)\n",
    "#plt.savefig('Density_of_y.pdf')    #save the plot to file\n",
    "plt.show()    #and then show the plot"
   ]
  },
  {
   "cell_type": "code",
   "execution_count": null,
   "metadata": {},
   "outputs": [],
   "source": [
    "#The variables vs y\n",
    "plt.figure(figsize = (20,10))    #initiate the plot\n",
    "\n",
    "plt.subplot(2,3,1)    #plot subplot 1,1 in the 3x3 area\n",
    "plt.plot(X['Ind_Variable_1'],y,'bs',lw=4)    #generate the plot\n",
    "plt.xlabel(r'$x_1$',fontsize=10)    #add an x label\n",
    "plt.ylabel(r'$y$',fontsize=10)    #add a y label"
   ]
  },
  {
   "cell_type": "code",
   "execution_count": null,
   "metadata": {},
   "outputs": [],
   "source": [
    "plt.subplot(2,3,2)    #plot subplot 1,2 in the 3x3 area\n",
    "plt.plot(X['Ind_Variable_2'],y,'bs',lw=4)    #generate the plot\n",
    "plt.xlabel(r'$x_2$',fontsize=10)    #add an x label, r' ' is for raw string output\n",
    "plt.ylabel(r'$y$',fontsize=10)    #add a y label\n",
    "\n",
    "plt.subplot(2,3,3)    #plot subplot 1,3 in the 3x3 area\n",
    "plt.plot(X['Ind_Variable_3'],y,'bs',lw=4)    #generate the plot\n",
    "plt.xlabel(r'$x_3$',fontsize=10)    #add an x label\n",
    "plt.ylabel(r'$y$',fontsize=10)    #add a y label\n",
    "\n",
    "plt.subplot(2,3,4)    #plot subplot 2,1 in the 3x3 area\n",
    "plt.plot(X['Ind_Variable_4'],y,'bs',lw=4)    #generate the plot\n",
    "plt.xlabel(r'$x_4$',fontsize=10)    #add an x label\n",
    "plt.ylabel(r'$y$',fontsize=10)    #add a y label\n",
    "\n",
    "plt.subplot(2,3,5)    #plot subplot 2,2 in the 3x3 area\n",
    "plt.plot(X['Ind_Variable_5'],y,'bs',lw=4)    #generate the plot\n",
    "plt.xlabel(r'$x_5$',fontsize=10)    #add an x label\n",
    "plt.ylabel(r'$y$',fontsize=10)    #add a y label\n",
    "\n",
    "plt.subplot(2,3,6)    #plot subplot 2,3 in the 3x3 area\n",
    "plt.plot(X['Ind_Variable_6'],y,'bs',lw=4)    #generate the plot\n",
    "plt.xlabel(r'$x_6$',fontsize=10)    #add an x label\n",
    "plt.ylabel(r'$y$',fontsize=10)    #add a y label\n",
    "\n",
    "#plt.savefig('Variable_relationships.pdf')    #save the plot to file"
   ]
  },
  {
   "cell_type": "code",
   "execution_count": null,
   "metadata": {},
   "outputs": [],
   "source": [
    "#split into training and test sets:\n",
    "mask = np.random.rand(X.shape[0]) < 0.75    #choose 3/4 of the data for training and the rest for test\n",
    "X_train = X[mask]    #take the training independent variable data\n",
    "X_test = X[~mask]    #and the test independent variable data\n",
    "y_train = y[mask]    #take the training dependent variable data\n",
    "y_test = y[~mask]    #and the training dependent variable data\n",
    "\n",
    "#train the model\n",
    "model = sm.OLS(y_train, X_train)    #define the statsmodels model object\n",
    "results = model.fit()    #fit the model\n",
    "results.summary()    #summarize"
   ]
  },
  {
   "cell_type": "code",
   "execution_count": null,
   "metadata": {},
   "outputs": [],
   "source": [
    "#consider in the test set\n",
    "r2_adj = 1 - ((sum((y_test-results.predict(X_test))**2.0)/(len(X_test) - len(results.params) - 1))\n",
    "                /(sum((y_test - np.mean(y_test))**2.0)/(len(X_test) - 1)))    #compute the adjusted r2 in the test set\n",
    "r2_adj"
   ]
  }
 ],
 "metadata": {
  "kernelspec": {
   "display_name": "metis",
   "language": "python",
   "name": "metis"
  },
  "language_info": {
   "codemirror_mode": {
    "name": "ipython",
    "version": 3
   },
   "file_extension": ".py",
   "mimetype": "text/x-python",
   "name": "python",
   "nbconvert_exporter": "python",
   "pygments_lexer": "ipython3",
   "version": "3.5.4"
  }
 },
 "nbformat": 4,
 "nbformat_minor": 2
}
