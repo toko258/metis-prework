{
 "cells": [
  {
   "cell_type": "markdown",
   "metadata": {},
   "source": [
    "### The Monty Hall Problem\n",
    "\n",
    "You can read more about the background and fascinating history of the problem on the Wikipedia page: https://en.wikipedia.org/wiki/Monty_Hall_problem\n",
    "\n",
    "But for now this is what you need to know: There was a game show called Let's Make a Deal. The idea was simple: there are three doors; behind one of the doors is a car (apparently desirable) and behind two of the doors were goats (apparently not so desirable). \n",
    "\n",
    "Play would then proceed in this way: \n",
    "* The player chooses a door (1, 2 or 3) that they think the car is behind\n",
    "* Monty Hall, the host, opens one of the two doors that the player has NOT selected and reveals a goat (remember, two of the doors have a goat, so whether the player picked a car or a goat, Monty has at least one door he can open)\n",
    "* The player, after seeing which door has been opened and shown to have a goat, gets to decide whether they want to stick with their original choice of door or whether they want to switch\n",
    "\n",
    "The question here is: **Does switching your guess for the door with a car after seeing which one Monty opens improve your odds of winning the car?**\n",
    "\n",
    "Let's think about this a bit. Some people originally thought that no, switching wouldn't help: after all, there are still three doors and so the probability of a car being behind any of them is 1/3 the whole time. Others thought that seeing the opened door with a goat is information that changes the probabilities (updating via Bayes' theorem). \n",
    "\n",
    "**Your task:** Simulate the game. If you have time at the end, also try to solve it analytically using Bayes' theorem. To simulate it, this is what you'll need to do: \n",
    "* For each simulation, pick a winning door (out of 1, 2 or 3)\n",
    "* Randomly choose a door for the player \n",
    "* Keep a running tally of wins from switching vs not switching: for each simulation, look at the player's door and Monty's door and record whether the player would have won from staying OR switching\n",
    "* Run the simulation many times and record the proportion of cases where a player wins from switching\n",
    "* Plot the output from the simulation \n"
   ]
  },
  {
   "cell_type": "code",
   "execution_count": null,
   "metadata": {},
   "outputs": [],
   "source": [
    "# I'll get you started with some imports \n",
    "import pandas as pd\n",
    "import numpy as np\n",
    "import matplotlib.pyplot as plt\n",
    "%matplotlib inline"
   ]
  },
  {
   "cell_type": "code",
   "execution_count": null,
   "metadata": {},
   "outputs": [],
   "source": [
    "def randomly_choose_door():\n",
    "    \n",
    "   '''Helper function that will return a randomly chosen door (1,2 or 3)'''\n",
    "\n",
    "\n",
    "def simulate_door_choice(sims=100):\n",
    "    \n",
    "    '''Run a simulation for sims number of times'''\n",
    "\n"
   ]
  },
  {
   "cell_type": "code",
   "execution_count": null,
   "metadata": {},
   "outputs": [],
   "source": []
  }
 ],
 "metadata": {
  "kernelspec": {
   "display_name": "metis",
   "language": "python",
   "name": "metis"
  },
  "language_info": {
   "codemirror_mode": {
    "name": "ipython",
    "version": 3
   },
   "file_extension": ".py",
   "mimetype": "text/x-python",
   "name": "python",
   "nbconvert_exporter": "python",
   "pygments_lexer": "ipython3",
   "version": "3.6.5"
  },
  "toc": {
   "base_numbering": 1,
   "nav_menu": {},
   "number_sections": true,
   "sideBar": true,
   "skip_h1_title": false,
   "title_cell": "Table of Contents",
   "title_sidebar": "Contents",
   "toc_cell": false,
   "toc_position": {
    "height": "calc(100% - 180px)",
    "left": "10px",
    "top": "150px",
    "width": "165px"
   },
   "toc_section_display": true,
   "toc_window_display": true
  }
 },
 "nbformat": 4,
 "nbformat_minor": 2
}
