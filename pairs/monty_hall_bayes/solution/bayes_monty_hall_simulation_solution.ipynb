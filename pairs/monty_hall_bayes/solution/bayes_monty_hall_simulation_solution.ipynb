{
 "cells": [
  {
   "cell_type": "markdown",
   "metadata": {},
   "source": [
    "# Simulation of Monty Hall problem\n"
   ]
  },
  {
   "cell_type": "code",
   "execution_count": null,
   "metadata": {},
   "outputs": [],
   "source": [
    "import pandas as pd\n",
    "import numpy as np\n",
    "import matplotlib.pyplot as plt\n",
    "%matplotlib inline"
   ]
  },
  {
   "cell_type": "code",
   "execution_count": null,
   "metadata": {},
   "outputs": [],
   "source": [
    "def randomly_choose_door():\n",
    "    \n",
    "    initial_door = np.random.randint(1, 3+1)\n",
    "    winning_door = np.random.randint(1, 3+1)\n",
    "    \n",
    "    switch_to = 0\n",
    "    montys_choice = 0\n",
    "    \n",
    "    doors = [1,2,3]\n",
    "    \n",
    "    if initial_door == winning_door:\n",
    "        \n",
    "        montys_choice = np.random.choice(np.delete(doors,winning_door-1))\n",
    "                \n",
    "        switch_to = 6 - montys_choice - initial_door\n",
    "        \n",
    "    else: \n",
    "        \n",
    "        montys_choice = 6 - initial_door - winning_door\n",
    "        \n",
    "        switch_to = winning_door\n",
    "        \n",
    "    switching_wins = 0\n",
    "    staying_wins = 0\n",
    "    \n",
    "    if winning_door == switch_to:\n",
    "        switching_wins = 1\n",
    "    else:\n",
    "        staying_wins = 1\n",
    "    \n",
    "    return switching_wins, staying_wins\n",
    "\n",
    "\n",
    "def simulate_door_choice(sims=100):\n",
    "    \n",
    "    choice_sims = [randomly_choose_door() for _ in range(sims)]\n",
    "    \n",
    "    choice_sims_df = pd.DataFrame(choice_sims)\n",
    "    choice_sims_df.columns = ['switch_and_win','stay_and_win']\n",
    "    \n",
    "    return choice_sims_df\n",
    "\n"
   ]
  },
  {
   "cell_type": "code",
   "execution_count": null,
   "metadata": {},
   "outputs": [],
   "source": [
    "run_sims=10\n",
    "\n",
    "choice_sims_df = simulate_door_choice(run_sims)#.expanding().mean()\n"
   ]
  },
  {
   "cell_type": "code",
   "execution_count": null,
   "metadata": {},
   "outputs": [],
   "source": [
    "choice_sims_df"
   ]
  },
  {
   "cell_type": "code",
   "execution_count": null,
   "metadata": {},
   "outputs": [],
   "source": [
    "choice_sims_df = choice_sims_df.expanding().mean()\n",
    "choice_sims_df"
   ]
  },
  {
   "cell_type": "code",
   "execution_count": null,
   "metadata": {},
   "outputs": [],
   "source": [
    "run_sims=1000\n",
    "\n",
    "choice_sims_df = simulate_door_choice(run_sims).expanding().mean()\n"
   ]
  },
  {
   "cell_type": "code",
   "execution_count": null,
   "metadata": {},
   "outputs": [],
   "source": [
    "x=np.linspace(1,run_sims,run_sims)\n",
    "plt.plot(x,choice_sims_df['switch_and_win'],color='pink',label='Switching wins')\n",
    "plt.plot(x,choice_sims_df['stay_and_win'],color='skyblue',label='Staying wins')\n",
    "plt.legend();"
   ]
  },
  {
   "cell_type": "code",
   "execution_count": null,
   "metadata": {},
   "outputs": [],
   "source": []
  }
 ],
 "metadata": {
  "kernelspec": {
   "display_name": "metis",
   "language": "python",
   "name": "metis"
  },
  "language_info": {
   "codemirror_mode": {
    "name": "ipython",
    "version": 3
   },
   "file_extension": ".py",
   "mimetype": "text/x-python",
   "name": "python",
   "nbconvert_exporter": "python",
   "pygments_lexer": "ipython3",
   "version": "3.6.5"
  },
  "toc": {
   "base_numbering": 1,
   "nav_menu": {},
   "number_sections": true,
   "sideBar": true,
   "skip_h1_title": false,
   "title_cell": "Table of Contents",
   "title_sidebar": "Contents",
   "toc_cell": false,
   "toc_position": {
    "height": "calc(100% - 180px)",
    "left": "10px",
    "top": "150px",
    "width": "165px"
   },
   "toc_section_display": true,
   "toc_window_display": true
  }
 },
 "nbformat": 4,
 "nbformat_minor": 2
}
