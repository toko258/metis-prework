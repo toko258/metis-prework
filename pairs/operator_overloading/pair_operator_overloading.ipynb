{
 "cells": [
  {
   "cell_type": "markdown",
   "metadata": {},
   "source": [
    "# Operator overloading; or, how to lose friends and annoy people\n",
    "\n",
    "Today we'll do some operator overloading, or change the behavior of some infix operators (+ and \\*) for our own handmade classes. \n",
    "\n",
    "There are legitimate reasons for doing so: if adding a behavior for + makes sense for your class, you can improve the readability of your code and make your classes easier to use. Of course, it's also a power that can be abused (the creator of Java did not include operator overloading in that language because he said he saw it abused in C++, which is probably a reflection of the character of C++ programmers). \n",
    "\n",
    "For example, let's look at the behavior of + for built-in tuples and lists. "
   ]
  },
  {
   "cell_type": "code",
   "execution_count": null,
   "metadata": {},
   "outputs": [],
   "source": [
    "# using + on lists concatenates them\n",
    "x_list = [2,3,4]\n",
    "y_list = [5,6,7]\n",
    "add_list = x_list + y_list\n",
    "print(add_list)"
   ]
  },
  {
   "cell_type": "code",
   "execution_count": null,
   "metadata": {},
   "outputs": [],
   "source": [
    "# using + on tuples also concatenates them \n",
    "x_tup = (2,3,4)\n",
    "y_tup = (5,6,7)\n",
    "add_tup = x_tup + y_tup\n",
    "print(add_tup)"
   ]
  },
  {
   "cell_type": "markdown",
   "metadata": {},
   "source": [
    "### But what if I want + to do vector addition and * vector multiplication?! "
   ]
  },
  {
   "cell_type": "code",
   "execution_count": null,
   "metadata": {},
   "outputs": [],
   "source": [
    "# I could use numpy, of course\n",
    "\n",
    "import numpy as np\n",
    "\n",
    "x = np.array((2,3,4))\n",
    "y = np.array([5,6,7])\n",
    "\n",
    "add_np_array = x+y\n",
    "print(add_np_array)\n",
    "\n",
    "mult_np_array = x*y\n",
    "print(mult_np_array)"
   ]
  },
  {
   "cell_type": "markdown",
   "metadata": {},
   "source": [
    "### But using numpy isn't so much fun, so let's build our own vector. \n",
    "\n",
    "We'll build our own tuple class and call it my_vector. We'll overload + to make it do vector addition. \n",
    "\n",
    "**Bonus points**: Overload another operator for maximum hilarious effect!"
   ]
  },
  {
   "cell_type": "code",
   "execution_count": null,
   "metadata": {},
   "outputs": [],
   "source": [
    "# I'll get you started with your my_tuple class \n",
    "\n",
    "import itertools \n",
    "\n",
    "class my_tuple:\n",
    "    '''Create my own tuple class that overloads + and * so I can get vector addition \n",
    "        and multiplication. \n",
    "        \n",
    "        It may also overload some operator in some unexpected way, but I won't tell you how, muahahaha'''\n",
    "    \n",
    "    def __init__(self , data):\n",
    "        '''INSERT CODE HERE'''\n",
    "    \n",
    "    def __iter__(self):\n",
    "        '''INSERT CODE HERE. Hint: my data is a tuple, so take advantage of the built-in iterator'''\n",
    "    \n",
    "    def __repr__(self):\n",
    "        '''INSERT CODE HERE. What should I return when someone asks for me? \n",
    "        E.g. if they want to print me, I should probably be a ...? '''\n",
    "    \n",
    "    def __add__(self,other):\n",
    "        ''' INSERT CODE HERE to overload addition\n",
    "        \n",
    "            Hint: if my tuples aren't the same size, just fill in the shorter one with zeroes '''\n",
    "                "
   ]
  },
  {
   "cell_type": "code",
   "execution_count": null,
   "metadata": {},
   "outputs": [],
   "source": [
    "# Once I add some code to __add__ above, the below will work and give me the expected output (10,18,28)\n",
    "\n",
    "tup = my_tuple([2,3,4,97])\n",
    "tup2 = my_tuple([5,6,7])\n",
    "\n",
    "add_my_tup = tup + tup2\n",
    "print(add_my_tup)\n",
    "\n",
    "# ... yes, the joke here is that the current output shows that my elements have been multiplied using +"
   ]
  },
  {
   "cell_type": "code",
   "execution_count": null,
   "metadata": {},
   "outputs": [],
   "source": []
  }
 ],
 "metadata": {
  "kernelspec": {
   "display_name": "metis",
   "language": "python",
   "name": "metis"
  },
  "language_info": {
   "codemirror_mode": {
    "name": "ipython",
    "version": 3
   },
   "file_extension": ".py",
   "mimetype": "text/x-python",
   "name": "python",
   "nbconvert_exporter": "python",
   "pygments_lexer": "ipython3",
   "version": "3.6.5"
  },
  "toc": {
   "base_numbering": 1,
   "nav_menu": {},
   "number_sections": true,
   "sideBar": true,
   "skip_h1_title": false,
   "title_cell": "Table of Contents",
   "title_sidebar": "Contents",
   "toc_cell": false,
   "toc_position": {},
   "toc_section_display": true,
   "toc_window_display": true
  }
 },
 "nbformat": 4,
 "nbformat_minor": 2
}
