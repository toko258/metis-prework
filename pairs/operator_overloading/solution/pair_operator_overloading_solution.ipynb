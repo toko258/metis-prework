{
 "cells": [
  {
   "cell_type": "code",
   "execution_count": null,
   "metadata": {},
   "outputs": [],
   "source": [
    "import numpy as np\n",
    "import itertools\n",
    "\n",
    "class my_tuple:\n",
    "    '''Create my own tuple class that overloads + and * so I can get vector addition \n",
    "        and multiplication. \n",
    "        \n",
    "        It may also overload some operator in some unexpected way, but I won't tell you how, muahahaha'''\n",
    "    \n",
    "    def __init__(self , data):\n",
    "        self.data= tuple(data)\n",
    "    \n",
    "    def __iter__(self):\n",
    "        return iter(self.data)\n",
    "    \n",
    "    def __repr__(self):\n",
    "        return str(self.data)\n",
    "      \n",
    "    def __add__(self,other):\n",
    "        combo = itertools.zip_longest(self,other,fillvalue=0.0)\n",
    "        return my_tuple(a+b for a,b in combo)\n",
    "    \n",
    "    def __lt__(self, other):\n",
    "        return self.data + other.data\n",
    "    \n",
    "    def __gt__(self,other):\n",
    "        return \"I will not do your bidding, human!\""
   ]
  },
  {
   "cell_type": "code",
   "execution_count": null,
   "metadata": {},
   "outputs": [],
   "source": [
    "tup = my_tuple((2,3,4,25))\n",
    "tup2 = my_tuple((5,6,7))\n",
    "add_my_tup = tup + tup2\n",
    "add_my_tup"
   ]
  },
  {
   "cell_type": "code",
   "execution_count": null,
   "metadata": {},
   "outputs": [],
   "source": [
    "tup < tup2"
   ]
  },
  {
   "cell_type": "code",
   "execution_count": null,
   "metadata": {},
   "outputs": [],
   "source": [
    "tup > tup2"
   ]
  },
  {
   "cell_type": "code",
   "execution_count": null,
   "metadata": {},
   "outputs": [],
   "source": []
  }
 ],
 "metadata": {
  "kernelspec": {
   "display_name": "metis",
   "language": "python",
   "name": "metis"
  },
  "language_info": {
   "codemirror_mode": {
    "name": "ipython",
    "version": 3
   },
   "file_extension": ".py",
   "mimetype": "text/x-python",
   "name": "python",
   "nbconvert_exporter": "python",
   "pygments_lexer": "ipython3",
   "version": "3.6.5"
  },
  "toc": {
   "base_numbering": 1,
   "nav_menu": {},
   "number_sections": true,
   "sideBar": true,
   "skip_h1_title": false,
   "title_cell": "Table of Contents",
   "title_sidebar": "Contents",
   "toc_cell": false,
   "toc_position": {
    "height": "calc(100% - 180px)",
    "left": "10px",
    "top": "150px",
    "width": "165px"
   },
   "toc_section_display": true,
   "toc_window_display": true
  }
 },
 "nbformat": 4,
 "nbformat_minor": 2
}
