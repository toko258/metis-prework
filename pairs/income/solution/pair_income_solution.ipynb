{
 "cells": [
  {
   "cell_type": "code",
   "execution_count": null,
   "metadata": {},
   "outputs": [],
   "source": [
    "import numpy as np\n",
    "import pandas as pd\n",
    "import matplotlib.pyplot as plt\n",
    "import seaborn as sns\n",
    "\n",
    "plt.style.use('ggplot')\n",
    "%matplotlib inline"
   ]
  },
  {
   "cell_type": "code",
   "execution_count": null,
   "metadata": {},
   "outputs": [],
   "source": [
    "df = pd.read_csv('incomes.csv')\n",
    "incomes = df['income'].values\n",
    "degree  = df['has_degree'].values"
   ]
  },
  {
   "cell_type": "markdown",
   "metadata": {},
   "source": [
    "## Problem 1: Finding the median income"
   ]
  },
  {
   "cell_type": "code",
   "execution_count": null,
   "metadata": {},
   "outputs": [],
   "source": [
    "def get_random_indicies_resample(num):\n",
    "    return np.random.randint(0, num, num)\n",
    "\n",
    "def get_sample(X):\n",
    "    indicies = get_random_indicies_resample(len(X))\n",
    "    return X[indicies]\n",
    "\n",
    "def get_sample_corr(X,y):\n",
    "    indicies = get_random_indicies_resample(len(X))\n",
    "    return X[indicies], y[indicies]\n",
    "\n",
    "def get_sample_median(X):\n",
    "    sample = get_sample(X)\n",
    "    return np.median(sample)"
   ]
  },
  {
   "cell_type": "code",
   "execution_count": null,
   "metadata": {},
   "outputs": [],
   "source": [
    "medians = [get_sample_median(incomes) for _ in range(200)]"
   ]
  },
  {
   "cell_type": "code",
   "execution_count": null,
   "metadata": {},
   "outputs": [],
   "source": [
    "plt.figure(dpi=200)\n",
    "plt.hist(medians);\n",
    "plt.title(\"Distribution of medians\")\n",
    "plt.xlabel(\"Median income of sample\")\n",
    "plt.ylabel(\"Number of samples\")\n",
    "\n",
    "whole_sample_median = np.median(incomes)\n",
    "plt.gca().axvline(whole_sample_median, ls='--', c='k');"
   ]
  },
  {
   "cell_type": "code",
   "execution_count": null,
   "metadata": {},
   "outputs": [],
   "source": [
    "# What are the percentiles? This gives us a range of values \n",
    "# that the sample median lies in 95% of the samples\n",
    "np.percentile(medians,2.5), np.percentile(medians, 97.5)"
   ]
  },
  {
   "cell_type": "code",
   "execution_count": null,
   "metadata": {},
   "outputs": [],
   "source": [
    "plt.figure(dpi=200)\n",
    "plt.hist(medians);\n",
    "plt.title(\"Distribution of medians\")\n",
    "plt.xlabel(\"Median income of sample\")\n",
    "plt.ylabel(\"Number of samples\")\n",
    "\n",
    "whole_sample_median = np.median(incomes)\n",
    "lower, higher = np.percentile(medians,2.5), np.percentile(medians, 97.5)\n",
    "\n",
    "axis = plt.gca()\n",
    "axis.axvline(whole_sample_median, ls='--', c='k');\n",
    "axis.axvline(lower, ls='--', c='b');\n",
    "axis.axvline(higher, ls='--', c='b');"
   ]
  },
  {
   "cell_type": "markdown",
   "metadata": {},
   "source": [
    "## Logistic regression"
   ]
  },
  {
   "cell_type": "code",
   "execution_count": null,
   "metadata": {},
   "outputs": [],
   "source": [
    "from sklearn.linear_model import LogisticRegression"
   ]
  },
  {
   "cell_type": "code",
   "execution_count": null,
   "metadata": {},
   "outputs": [],
   "source": [
    "coefficients, intercepts = [], []\n",
    "\n",
    "for sample in range(200):\n",
    "    lm = LogisticRegression()\n",
    "    sampleX, sampleY = get_sample_corr(incomes, degree)\n",
    "    lm.fit(sampleX.reshape((-1,1)), sampleY)\n",
    "    coefficients.append(lm.coef_[0,0])\n",
    "    intercepts.append(lm.intercept_[0])"
   ]
  },
  {
   "cell_type": "code",
   "execution_count": null,
   "metadata": {},
   "outputs": [],
   "source": [
    "import matplotlib.ticker as ticker\n",
    "\n",
    "plt.figure(dpi=100)\n",
    "plt.plot(coefficients, intercepts,'o')\n",
    "plt.plot()\n",
    "plt.xlabel('coefficient')\n",
    "plt.ylabel('intercept')\n",
    "plt.gca().xaxis.set_major_formatter(ticker.FormatStrFormatter('%0.0e'));"
   ]
  },
  {
   "cell_type": "markdown",
   "metadata": {},
   "source": [
    "Standard scaling is really important! Look at what the difference is when we include it!"
   ]
  },
  {
   "cell_type": "code",
   "execution_count": null,
   "metadata": {},
   "outputs": [],
   "source": [
    "from sklearn.preprocessing import StandardScaler\n",
    "\n",
    "coefficients, intercepts = [], []\n",
    "\n",
    "for sample in range(200):\n",
    "    lm = LogisticRegression()\n",
    "    ssX = StandardScaler()\n",
    "    sampleX, sampleY = get_sample_corr(incomes, degree)\n",
    "    sampleX_scaled = ssX.fit_transform(sampleX.reshape((-1,1)), sampleY)\n",
    "    lm.fit(sampleX_scaled, sampleY)\n",
    "    \n",
    "    # This converts from the coefficients on the scaled version to\n",
    "    # coefficients in the \"original\" coordinates\n",
    "    raw_coef = lm.coef_[0,0]/np.sqrt(ssX.var_[0])\n",
    "    raw_intercept = lm.intercept_[0] - raw_coef*ssX.mean_[0]\n",
    "    coefficients.append(raw_coef)\n",
    "    intercepts.append(raw_intercept)"
   ]
  },
  {
   "cell_type": "code",
   "execution_count": null,
   "metadata": {},
   "outputs": [],
   "source": [
    "plt.figure(dpi=100)\n",
    "plt.plot(coefficients, intercepts,'o')\n",
    "\n",
    "# This is a actual beta and b I used to generate the data\n",
    "plt.plot([1/30000.0], [-4/3.0], 'bx')\n",
    "\n",
    "plt.xlabel('coefficient')\n",
    "plt.ylabel('intercept')\n",
    "plt.gca().xaxis.set_major_formatter(ticker.FormatStrFormatter('%0.0e'));"
   ]
  },
  {
   "cell_type": "code",
   "execution_count": null,
   "metadata": {},
   "outputs": [],
   "source": []
  }
 ],
 "metadata": {
  "kernelspec": {
   "display_name": "metis",
   "language": "python",
   "name": "metis"
  },
  "language_info": {
   "codemirror_mode": {
    "name": "ipython",
    "version": 3
   },
   "file_extension": ".py",
   "mimetype": "text/x-python",
   "name": "python",
   "nbconvert_exporter": "python",
   "pygments_lexer": "ipython3",
   "version": "3.6.4"
  }
 },
 "nbformat": 4,
 "nbformat_minor": 2
}
