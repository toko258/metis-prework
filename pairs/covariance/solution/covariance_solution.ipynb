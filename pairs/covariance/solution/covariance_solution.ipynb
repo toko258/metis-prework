{
 "cells": [
  {
   "cell_type": "markdown",
   "metadata": {},
   "source": [
    "## Intuition on the difference between Pearson correlation and cosine similarity \n",
    "\n",
    "https://stackoverflow.com/questions/19410270/vector-space-model-cosine-similarity-vs-euclidean-distance?rq=1\n",
    "\n",
    "Pearson correlation and cosine similarity are invariant to scaling, i.e. multiplying all elements by a nonzero constant. \n",
    "\n",
    "Pearson correlation is also invariant to adding any constant to all elements. \n",
    "\n",
    "The reason Pearson Correlation Coefficient is invariant to adding any constant is that the means are subtracted out by construction. It is also easy to see that Pearson Correlation Coefficient and Cosine Similarity are equivalent when X and Y have means of 0, so we can think of Pearson Correlation Coefficient as demeaned version of Cosine Similarity."
   ]
  },
  {
   "cell_type": "code",
   "execution_count": null,
   "metadata": {},
   "outputs": [],
   "source": [
    "from sklearn.feature_extraction.text import CountVectorizer\n",
    "from sklearn.metrics.pairwise import pairwise_distances\n",
    "import numpy as np\n",
    "\n",
    "text = [\n",
    "    \"wookie stormtrooper\",\n",
    "    \"wookie wookie wookie stormtrooper stormtrooper stormtrooper\",\n",
    "    \"harry potter\"\n",
    "]\n",
    "\n",
    "vect = CountVectorizer()\n",
    "data = vect.fit_transform(text).todense()\n",
    "\n",
    "print(vect.get_feature_names())"
   ]
  },
  {
   "cell_type": "code",
   "execution_count": null,
   "metadata": {},
   "outputs": [],
   "source": [
    "print(data)"
   ]
  },
  {
   "cell_type": "code",
   "execution_count": null,
   "metadata": {},
   "outputs": [],
   "source": [
    "data.mean(axis=0)"
   ]
  },
  {
   "cell_type": "code",
   "execution_count": null,
   "metadata": {},
   "outputs": [],
   "source": [
    "data.mean(axis=1)"
   ]
  },
  {
   "cell_type": "code",
   "execution_count": null,
   "metadata": {},
   "outputs": [],
   "source": [
    "print(\"euclidian dist: \\n\", pairwise_distances(data, metric='euclidean'))\n",
    "print(\"\\ncosine dist: \\n\", pairwise_distances(data, metric='cosine').round(2))\n",
    "\n",
    "print(\"\\n1-cosine dist: \\n\", 1 - pairwise_distances(data - data.mean(axis=1), metric='cosine'))"
   ]
  },
  {
   "cell_type": "code",
   "execution_count": null,
   "metadata": {},
   "outputs": [],
   "source": [
    "print(np.corrcoef(data))"
   ]
  },
  {
   "cell_type": "code",
   "execution_count": null,
   "metadata": {},
   "outputs": [],
   "source": []
  }
 ],
 "metadata": {
  "kernelspec": {
   "display_name": "metis",
   "language": "python",
   "name": "metis"
  },
  "language_info": {
   "codemirror_mode": {
    "name": "ipython",
    "version": 3
   },
   "file_extension": ".py",
   "mimetype": "text/x-python",
   "name": "python",
   "nbconvert_exporter": "python",
   "pygments_lexer": "ipython3",
   "version": "3.6.5"
  },
  "toc": {
   "base_numbering": 1,
   "nav_menu": {},
   "number_sections": true,
   "sideBar": true,
   "skip_h1_title": false,
   "title_cell": "Table of Contents",
   "title_sidebar": "Contents",
   "toc_cell": false,
   "toc_position": {
    "height": "calc(100% - 180px)",
    "left": "10px",
    "top": "150px",
    "width": "165px"
   },
   "toc_section_display": true,
   "toc_window_display": true
  }
 },
 "nbformat": 4,
 "nbformat_minor": 2
}
